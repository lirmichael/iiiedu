{
 "cells": [
  {
   "cell_type": "code",
   "execution_count": 1,
   "metadata": {
    "collapsed": false
   },
   "outputs": [
    {
     "name": "stdout",
     "output_type": "stream",
     "text": [
      "<?xml version=\"1.0\" encoding=\"UTF-8\"?>\r\n",
      "<!DOCTYPE specification SYSTEM \"../specification.dtd\">\r\n",
      "\r\n",
      "<specification application-num=\"095304428U02\" dtd-version=\"A103.1.0\" lang=\"tw\" produced-by=\"applicant\" receive-date=\" \" receive-num=\"1012034796-0\" status=\"p\"><description><title lang=\"tw\">安全帽 聯合(一)</title>\r\n",
      "<main-use><p general=\"0001\" id=\"_00001\">供機車騎乘者戴用，以保護頭部安全。</p>\r\n",
      "</main-use>\r\n",
      "<disclosure><p general=\"0002\" id=\"_00002\">本創作帽體係呈前窄後寬，並向前漸縮及傾斜而下，鏡片亦配合而呈向前且向下之弧狀，帽體前端具一近似菱形之流線進氣導風窗，帽體後端兩側則具有二翼形之流線排氣(風)窗，以形成前後三角鼎立之對稱關係，而可增添視覺美感。</p>\r\n",
      "<p general=\"0003\" id=\"_00003\">綜觀本創作整體造型，不但優雅精緻，且輕巧玲瓏又可愛，誠為一不可多得之佳作，惟因與第095304428號專利案近似，爰依法提出聯合新式樣專利申請。</p>\r\n",
      "</disclosure>\r\n",
      "</description>\r\n",
      "<drawings lang=\"tw\"><figure figure-labels=\"立體圖(代表圖)\"><img alt=\"\" file=\"IMG-2/Draw/095304428U02-A0101-03-0001-1.JPG\" he=\"2038\" id=\"i0001\" img-content=\"drawing\" img-format=\"tif\" inline=\"no\" orientation=\"portrait\" wi=\"1716\"/></figure>\r\n",
      "<figure figure-labels=\"前視圖\"><img alt=\"\" file=\"IMG-2/Draw/095304428U02-A0101-03-0002-2.JPG\" he=\"1586\" id=\"i0002\" img-content=\"drawing\" img-format=\"tif\" inline=\"no\" orientation=\"portrait\" wi=\"1739\"/></figure>\r\n",
      "<figure figure-labels=\"後視圖\"><img alt=\"\" file=\"IMG-2/Draw/095304428U02-A0101-03-0002-3.JPG\" he=\"1300\" id=\"i0003\" img-content=\"drawing\" img-format=\"tif\" inline=\"no\" orientation=\"portrait\" wi=\"1799\"/></figure>\r\n",
      "<figure figure-labels=\"左側視圖\"><img alt=\"\" file=\"IMG-2/Draw/095304428U02-A0101-03-0003-4.JPG\" he=\"1609\" id=\"i0004\" img-content=\"drawing\" img-format=\"tif\" inline=\"no\" orientation=\"portrait\" wi=\"1799\"/></figure>\r\n",
      "<figure figure-labels=\"右側視圖\"><img alt=\"\" file=\"IMG-2/Draw/095304428U02-A0101-03-0003-6.JPG\" he=\"1619\" id=\"i0005\" img-content=\"drawing\" img-format=\"tif\" inline=\"no\" orientation=\"portrait\" wi=\"1776\"/></figure>\r\n",
      "<figure figure-labels=\"俯視圖\"><img alt=\"\" file=\"IMG-2/Draw/095304428U02-A0101-03-0004-7.JPG\" he=\"1609\" id=\"i0006\" img-content=\"drawing\" img-format=\"tif\" inline=\"no\" orientation=\"portrait\" wi=\"1605\"/></figure>\r\n",
      "<figure figure-labels=\"仰視圖\"><img alt=\"\" file=\"IMG-2/Draw/095304428U02-A0101-03-0004-8.JPG\" he=\"1540\" id=\"i0007\" img-content=\"drawing\" img-format=\"tif\" inline=\"no\" orientation=\"portrait\" wi=\"1665\"/></figure>\r\n",
      "</drawings>\r\n",
      "</specification>\n"
     ]
    }
   ],
   "source": [
    "#From data file import *.xml and paser  \n",
    "\n",
    "import requests\n",
    "import os\n",
    "import sys\n",
    "#sys.path.append('../')\n",
    "\n",
    "import jieba\n",
    "import jieba.analyse\n",
    "from optparse import OptionParser\n",
    "import operator\n",
    "from bs4 import BeautifulSoup as bs\n",
    "f = open('E:/Patent_Full_atticle/PatentPubXML_040002/4002I381864', 'rb')\n",
    "response_text = f.read()\n",
    "f.close()\n",
    "\n",
    "print response_text\n",
    "\n"
   ]
  },
  {
   "cell_type": "code",
   "execution_count": 2,
   "metadata": {
    "collapsed": false
   },
   "outputs": [
    {
     "name": "stdout",
     "output_type": "stream",
     "text": [
      "<!DOCTYPE specification SYSTEM \"../specification.dtd\">\n",
      "<html><body><specification application-num=\"095304428U02\" dtd-version=\"A103.1.0\" lang=\"tw\" produced-by=\"applicant\" receive-date=\" \" receive-num=\"1012034796-0\" status=\"p\"><description><title lang=\"tw\">安全帽 聯合(一)</title>\n",
      "<main-use><p general=\"0001\" id=\"_00001\">供機車騎乘者戴用，以保護頭部安全。</p>\n",
      "</main-use>\n",
      "<disclosure><p general=\"0002\" id=\"_00002\">本創作帽體係呈前窄後寬，並向前漸縮及傾斜而下，鏡片亦配合而呈向前且向下之弧狀，帽體前端具一近似菱形之流線進氣導風窗，帽體後端兩側則具有二翼形之流線排氣(風)窗，以形成前後三角鼎立之對稱關係，而可增添視覺美感。</p>\n",
      "<p general=\"0003\" id=\"_00003\">綜觀本創作整體造型，不但優雅精緻，且輕巧玲瓏又可愛，誠為一不可多得之佳作，惟因與第095304428號專利案近似，爰依法提出聯合新式樣專利申請。</p>\n",
      "</disclosure>\n",
      "</description>\n",
      "<drawings lang=\"tw\"><figure figure-labels=\"立體圖(代表圖)\"><img alt=\"\" file=\"IMG-2/Draw/095304428U02-A0101-03-0001-1.JPG\" he=\"2038\" id=\"i0001\" img-content=\"drawing\" img-format=\"tif\" inline=\"no\" orientation=\"portrait\" wi=\"1716\"/></figure>\n",
      "<figure figure-labels=\"前視圖\"><img alt=\"\" file=\"IMG-2/Draw/095304428U02-A0101-03-0002-2.JPG\" he=\"1586\" id=\"i0002\" img-content=\"drawing\" img-format=\"tif\" inline=\"no\" orientation=\"portrait\" wi=\"1739\"/></figure>\n",
      "<figure figure-labels=\"後視圖\"><img alt=\"\" file=\"IMG-2/Draw/095304428U02-A0101-03-0002-3.JPG\" he=\"1300\" id=\"i0003\" img-content=\"drawing\" img-format=\"tif\" inline=\"no\" orientation=\"portrait\" wi=\"1799\"/></figure>\n",
      "<figure figure-labels=\"左側視圖\"><img alt=\"\" file=\"IMG-2/Draw/095304428U02-A0101-03-0003-4.JPG\" he=\"1609\" id=\"i0004\" img-content=\"drawing\" img-format=\"tif\" inline=\"no\" orientation=\"portrait\" wi=\"1799\"/></figure>\n",
      "<figure figure-labels=\"右側視圖\"><img alt=\"\" file=\"IMG-2/Draw/095304428U02-A0101-03-0003-6.JPG\" he=\"1619\" id=\"i0005\" img-content=\"drawing\" img-format=\"tif\" inline=\"no\" orientation=\"portrait\" wi=\"1776\"/></figure>\n",
      "<figure figure-labels=\"俯視圖\"><img alt=\"\" file=\"IMG-2/Draw/095304428U02-A0101-03-0004-7.JPG\" he=\"1609\" id=\"i0006\" img-content=\"drawing\" img-format=\"tif\" inline=\"no\" orientation=\"portrait\" wi=\"1605\"/></figure>\n",
      "<figure figure-labels=\"仰視圖\"><img alt=\"\" file=\"IMG-2/Draw/095304428U02-A0101-03-0004-8.JPG\" he=\"1540\" id=\"i0007\" img-content=\"drawing\" img-format=\"tif\" inline=\"no\" orientation=\"portrait\" wi=\"1665\"/></figure>\n",
      "</drawings>\n",
      "</specification></body></html>\n"
     ]
    }
   ],
   "source": [
    "import re\n",
    "soup = bs(response_text)\n",
    "print soup\n"
   ]
  },
  {
   "cell_type": "code",
   "execution_count": 3,
   "metadata": {
    "collapsed": false
   },
   "outputs": [
    {
     "name": "stdout",
     "output_type": "stream",
     "text": [
      "安全帽 聯合(一)\n",
      "供機車騎乘者戴用，以保護頭部安全。\n",
      "\n",
      "本創作帽體係呈前窄後寬，並向前漸縮及傾斜而下，鏡片亦配合而呈向前且向下之弧狀，帽體前端具一近似菱形之流線進氣導風窗，帽體後端兩側則具有二翼形之流線排氣(風)窗，以形成前後三角鼎立之對稱關係，而可增添視覺美感。\n",
      "綜觀本創作整體造型，不但優雅精緻，且輕巧玲瓏又可愛，誠為一不可多得之佳作，惟因與第095304428號專利案近似，爰依法提出聯合新式樣專利申請。\n",
      "\n",
      "\n",
      "\n",
      "\n",
      "\n",
      "\n",
      "\n",
      "\n",
      "\n",
      "\n",
      "\n"
     ]
    }
   ],
   "source": [
    "print soup.text"
   ]
  },
  {
   "cell_type": "code",
   "execution_count": 7,
   "metadata": {
    "collapsed": false
   },
   "outputs": [
    {
     "name": "stdout",
     "output_type": "stream",
     "text": [
      "095304428U02\n",
      "None\n",
      "1012034796-0\n"
     ]
    }
   ],
   "source": [
    "#application-num 申請號\n",
    "#ipc-mark ipc號\n",
    "#receive-num　接收號\n",
    "\n",
    "for num in soup.find_all('specification'):\n",
    "    print(num.get('application-num'))\n",
    "    print(num.get('ipc-mark'))\n",
    "    print(num.get('receive-num'))\n"
   ]
  },
  {
   "cell_type": "code",
   "execution_count": null,
   "metadata": {
    "collapsed": true
   },
   "outputs": [],
   "source": []
  }
 ],
 "metadata": {
  "kernelspec": {
   "display_name": "Python 2",
   "language": "python",
   "name": "python2"
  },
  "language_info": {
   "codemirror_mode": {
    "name": "ipython",
    "version": 2
   },
   "file_extension": ".py",
   "mimetype": "text/x-python",
   "name": "python",
   "nbconvert_exporter": "python",
   "pygments_lexer": "ipython2",
   "version": "2.7.10"
  }
 },
 "nbformat": 4,
 "nbformat_minor": 0
}
