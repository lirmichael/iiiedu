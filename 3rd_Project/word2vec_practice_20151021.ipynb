{
 "cells": [
  {
   "cell_type": "code",
   "execution_count": 1,
   "metadata": {
    "collapsed": false
   },
   "outputs": [
    {
     "name": "stdout",
     "output_type": "stream",
     "text": [
      "一種渦卷容積式流體機械裝置之改進是具有兩個互相嚙合的螺旋形的渦卷，該螺旋形渦卷具有預先確定的幾何形狀。一種新的設計方法使得所要求的流體吸入容積、高容積比和最佳螺旋圈數同時得到滿足。兩個渦卷的幾何形線可以是相同的，也可以是非相同的。其中一個渦卷是非繞動的，可以作軸向運動。非繞動渦卷在機械或流體偏置力作用下傾向於另一渦卷，並由定位機構擋住以維持渦卷的前端和底部之間隙。一穩定機構防止渦卷晃動。\n"
     ]
    }
   ],
   "source": [
    "from bs4 import BeautifulSoup as bs\n",
    "\n",
    "st = '一種渦卷容積式流體機械裝置之改進是具有兩個互相嚙合的螺旋形的渦卷，該螺旋形渦卷具有預先確定的幾何形狀。一種新的設計方法使得所要求的流體吸入容積、高容積比和最佳螺旋圈數同時得到滿足。兩個渦卷的幾何形線可以是相同的，也可以是非相同的。其中一個渦卷是非繞動的，可以作軸向運動。非繞動渦卷在機械或流體偏置力作用下傾向於另一渦卷，並由定位機構擋住以維持渦卷的前端和底部之間隙。一穩定機構防止渦卷晃動。'\n",
    "print st\n",
    "adr = 'E:/OneDrive/Project/CKIPClient/test/in/222.txt'\n",
    "f = open(adr,'w')\n",
    "try:\n",
    "    f.write(st.decode('utf8').encode('big5'))\n",
    "except:\n",
    "    print '22'\n",
    "f.close()"
   ]
  },
  {
   "cell_type": "code",
   "execution_count": null,
   "metadata": {
    "collapsed": true
   },
   "outputs": [],
   "source": []
  }
 ],
 "metadata": {
  "kernelspec": {
   "display_name": "Python 2",
   "language": "python",
   "name": "python2"
  },
  "language_info": {
   "codemirror_mode": {
    "name": "ipython",
    "version": 2
   },
   "file_extension": ".py",
   "mimetype": "text/x-python",
   "name": "python",
   "nbconvert_exporter": "python",
   "pygments_lexer": "ipython2",
   "version": "2.7.10"
  }
 },
 "nbformat": 4,
 "nbformat_minor": 0
}
