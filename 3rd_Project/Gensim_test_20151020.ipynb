{
 "cells": [
  {
   "cell_type": "code",
   "execution_count": 1,
   "metadata": {
    "collapsed": false
   },
   "outputs": [],
   "source": [
    "from gensim import corpora, models, similarities"
   ]
  },
  {
   "cell_type": "code",
   "execution_count": 2,
   "metadata": {
    "collapsed": true
   },
   "outputs": [],
   "source": [
    "import logging\n"
   ]
  },
  {
   "cell_type": "code",
   "execution_count": 3,
   "metadata": {
    "collapsed": false
   },
   "outputs": [],
   "source": [
    " logging.basicConfig(format='%(asctime)s : %(levelname)s : %(message)s', level=logging.INFO)"
   ]
  },
  {
   "cell_type": "code",
   "execution_count": 4,
   "metadata": {
    "collapsed": false
   },
   "outputs": [],
   "source": [
    " documents = [\"Shipment of gold damaged in a fire\",\n",
    "\"Delivery of silver arrived in a silver truck\",\n",
    "\"Shipment of gold arrived in a truck\"]"
   ]
  },
  {
   "cell_type": "code",
   "execution_count": 5,
   "metadata": {
    "collapsed": true
   },
   "outputs": [],
   "source": [
    "texts = [[word for word in document.lower().split()] for document in \n",
    "documents] "
   ]
  },
  {
   "cell_type": "code",
   "execution_count": 6,
   "metadata": {
    "collapsed": false
   },
   "outputs": [
    {
     "name": "stdout",
     "output_type": "stream",
     "text": [
      "[['shipment', 'of', 'gold', 'damaged', 'in', 'a', 'fire'], ['delivery', 'of', 'silver', 'arrived', 'in', 'a', 'silver', 'truck'], ['shipment', 'of', 'gold', 'arrived', 'in', 'a', 'truck']]\n"
     ]
    }
   ],
   "source": [
    " print texts"
   ]
  },
  {
   "cell_type": "code",
   "execution_count": 7,
   "metadata": {
    "collapsed": false
   },
   "outputs": [
    {
     "name": "stdout",
     "output_type": "stream",
     "text": [
      "Dictionary(11 unique tokens: [u'a', u'damaged', u'gold', u'fire', u'of']...)\n"
     ]
    }
   ],
   "source": [
    "dictionary = corpora.Dictionary(texts)\n",
    "print dictionary"
   ]
  },
  {
   "cell_type": "code",
   "execution_count": 10,
   "metadata": {
    "collapsed": false
   },
   "outputs": [
    {
     "name": "stdout",
     "output_type": "stream",
     "text": [
      "{u'a': 0, u'damaged': 1, u'gold': 2, u'fire': 3, u'of': 4, u'delivery': 7, u'truck': 8, u'shipment': 5, u'in': 6, u'arrived': 9, u'silver': 10}\n"
     ]
    }
   ],
   "source": [
    "print dictionary.token2id"
   ]
  },
  {
   "cell_type": "code",
   "execution_count": 12,
   "metadata": {
    "collapsed": false
   },
   "outputs": [
    {
     "name": "stdout",
     "output_type": "stream",
     "text": [
      "[[(0, 1), (1, 1), (2, 1), (3, 1), (4, 1), (5, 1), (6, 1)], [(0, 1), (4, 1), (6, 1), (7, 1), (8, 1), (9, 1), (10, 2)], [(0, 1), (2, 1), (4, 1), (5, 1), (6, 1), (8, 1), (9, 1)]]\n"
     ]
    }
   ],
   "source": [
    "corpus = [dictionary.doc2bow(text) for text in texts]\n",
    "print corpus"
   ]
  },
  {
   "cell_type": "code",
   "execution_count": 13,
   "metadata": {
    "collapsed": false
   },
   "outputs": [],
   "source": [
    "tfidf = models.TfidfModel(corpus)"
   ]
  },
  {
   "cell_type": "code",
   "execution_count": 14,
   "metadata": {
    "collapsed": false
   },
   "outputs": [
    {
     "name": "stdout",
     "output_type": "stream",
     "text": [
      "[(1, 0.6633689723434505), (2, 0.2448297500958463), (3, 0.6633689723434505), (5, 0.2448297500958463)]\n",
      "[(7, 0.4355066251613605), (8, 0.16073253746956623), (9, 0.16073253746956623), (10, 0.871013250322721)]\n",
      "[(2, 0.5), (5, 0.5), (8, 0.5), (9, 0.5)]\n"
     ]
    }
   ],
   "source": [
    "corpus_tfidf = tfidf[corpus]\n",
    "for doc in corpus_tfidf:\n",
    "    print doc"
   ]
  },
  {
   "cell_type": "code",
   "execution_count": 15,
   "metadata": {
    "collapsed": false
   },
   "outputs": [
    {
     "name": "stdout",
     "output_type": "stream",
     "text": [
      "TfidfModel(num_docs=3, num_nnz=21)\n"
     ]
    }
   ],
   "source": [
    "print tfidf"
   ]
  },
  {
   "cell_type": "code",
   "execution_count": 16,
   "metadata": {
    "collapsed": false
   },
   "outputs": [
    {
     "name": "stdout",
     "output_type": "stream",
     "text": [
      "{0: 3, 1: 1, 2: 2, 3: 1, 4: 3, 5: 2, 6: 3, 7: 1, 8: 2, 9: 2, 10: 1}\n"
     ]
    }
   ],
   "source": [
    "print tfidf.dfs"
   ]
  },
  {
   "cell_type": "code",
   "execution_count": 17,
   "metadata": {
    "collapsed": false
   },
   "outputs": [
    {
     "name": "stdout",
     "output_type": "stream",
     "text": [
      "{0: 0.0, 1: 1.5849625007211563, 2: 0.5849625007211562, 3: 1.5849625007211563, 4: 0.0, 5: 0.5849625007211562, 6: 0.0, 7: 1.5849625007211563, 8: 0.5849625007211562, 9: 0.5849625007211562, 10: 1.5849625007211563}\n"
     ]
    }
   ],
   "source": [
    "print tfidf.idfs"
   ]
  },
  {
   "cell_type": "code",
   "execution_count": 18,
   "metadata": {
    "collapsed": true
   },
   "outputs": [],
   "source": [
    "lsi = models.LsiModel(corpus_tfidf, id2word=dictionary, num_topics = 2 )"
   ]
  },
  {
   "cell_type": "code",
   "execution_count": 19,
   "metadata": {
    "collapsed": false
   },
   "outputs": [
    {
     "data": {
      "text/plain": [
       "[u'-0.438*\"gold\" + -0.438*\"shipment\" + -0.366*\"truck\" + -0.366*\"arrived\" + -0.345*\"damaged\" + -0.345*\"fire\" + -0.297*\"silver\" + -0.149*\"delivery\" + 0.000*\"a\" + 0.000*\"of\"',\n",
       " u'-0.728*\"silver\" + -0.364*\"delivery\" + 0.364*\"damaged\" + 0.364*\"fire\" + 0.134*\"gold\" + 0.134*\"shipment\" + -0.134*\"arrived\" + -0.134*\"truck\" + -0.000*\"a\" + 0.000*\"in\"']"
      ]
     },
     "execution_count": 19,
     "metadata": {},
     "output_type": "execute_result"
    }
   ],
   "source": [
    "lsi.print_topics(2)"
   ]
  },
  {
   "cell_type": "code",
   "execution_count": 20,
   "metadata": {
    "collapsed": false
   },
   "outputs": [
    {
     "name": "stdout",
     "output_type": "stream",
     "text": [
      "[(0, -0.67211468809878616), (1, 0.54880682119355884)]\n",
      "[(0, -0.44124825208697815), (1, -0.83594920480339074)]\n",
      "[(0, -0.80401378963792713)]\n"
     ]
    }
   ],
   "source": [
    "corpus_lsi = lsi[corpus_tfidf]\n",
    "for doc in corpus_lsi:\n",
    "    print doc\n"
   ]
  },
  {
   "cell_type": "code",
   "execution_count": 28,
   "metadata": {
    "collapsed": false
   },
   "outputs": [
    {
     "name": "stderr",
     "output_type": "stream",
     "text": [
      "WARNING:gensim.models.ldamodel:too few updates, training might not converge; consider increasing the number of passes or iterations to improve accuracy\n"
     ]
    },
    {
     "data": {
      "text/plain": [
       "[u'0.132*silver + 0.105*truck + 0.105*shipment + 0.100*fire + 0.099*arrived + 0.099*gold + 0.095*damaged + 0.092*delivery + 0.058*a + 0.058*of',\n",
       " u'0.114*gold + 0.108*damaged + 0.108*shipment + 0.103*arrived + 0.103*fire + 0.097*truck + 0.094*silver + 0.082*delivery + 0.064*a + 0.064*of']"
      ]
     },
     "execution_count": 28,
     "metadata": {},
     "output_type": "execute_result"
    }
   ],
   "source": [
    "lda = models.LdaModel(corpus_tfidf, id2word= dictionary, num_topics = 2)\n",
    "lda.print_topics(2)"
   ]
  },
  {
   "cell_type": "code",
   "execution_count": 21,
   "metadata": {
    "collapsed": false
   },
   "outputs": [
    {
     "name": "stderr",
     "output_type": "stream",
     "text": [
      "WARNING:gensim.similarities.docsim:scanning corpus to determine the number of features (consider setting `num_features` explicitly)\n"
     ]
    }
   ],
   "source": [
    "index = similarities.MatrixSimilarity(lsi[corpus])"
   ]
  },
  {
   "cell_type": "code",
   "execution_count": 22,
   "metadata": {
    "collapsed": false
   },
   "outputs": [
    {
     "name": "stdout",
     "output_type": "stream",
     "text": [
      "[(2, 1), (8, 1), (10, 1)]\n"
     ]
    }
   ],
   "source": [
    "query = 'gold silver truck'\n",
    "query_bow = dictionary.doc2bow(query.lower().split())\n",
    "print query_bow"
   ]
  },
  {
   "cell_type": "code",
   "execution_count": 23,
   "metadata": {
    "collapsed": false
   },
   "outputs": [
    {
     "name": "stdout",
     "output_type": "stream",
     "text": [
      "[(0, -1.101283574862848), (1, -0.72812283398049538)]\n"
     ]
    }
   ],
   "source": [
    "query_lsi = lsi[query_bow]\n",
    "print query_lsi"
   ]
  },
  {
   "cell_type": "code",
   "execution_count": 24,
   "metadata": {
    "collapsed": false
   },
   "outputs": [
    {
     "name": "stdout",
     "output_type": "stream",
     "text": [
      "[(0, 0.40757114), (1, 0.93163693), (2, 0.83416492)]\n"
     ]
    }
   ],
   "source": [
    "sims = index[query_lsi]\n",
    "print list(enumerate(sims))\n"
   ]
  },
  {
   "cell_type": "code",
   "execution_count": 25,
   "metadata": {
    "collapsed": false
   },
   "outputs": [
    {
     "name": "stdout",
     "output_type": "stream",
     "text": [
      "[(1, 0.93163693), (2, 0.83416492), (0, 0.40757114)]\n"
     ]
    }
   ],
   "source": [
    "sort_sims = sorted(enumerate(sims), key= lambda item: -item[1] )\n",
    "print sort_sims"
   ]
  },
  {
   "cell_type": "code",
   "execution_count": null,
   "metadata": {
    "collapsed": true
   },
   "outputs": [],
   "source": []
  }
 ],
 "metadata": {
  "kernelspec": {
   "display_name": "Python 2",
   "language": "python",
   "name": "python2"
  },
  "language_info": {
   "codemirror_mode": {
    "name": "ipython",
    "version": 2
   },
   "file_extension": ".py",
   "mimetype": "text/x-python",
   "name": "python",
   "nbconvert_exporter": "python",
   "pygments_lexer": "ipython2",
   "version": "2.7.10"
  }
 },
 "nbformat": 4,
 "nbformat_minor": 0
}
